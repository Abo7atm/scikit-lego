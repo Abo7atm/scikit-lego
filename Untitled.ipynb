{
 "cells": [
  {
   "cell_type": "code",
   "execution_count": 4,
   "metadata": {},
   "outputs": [],
   "source": [
    "import numpy as np\n"
   ]
  },
  {
   "cell_type": "code",
   "execution_count": 10,
   "metadata": {},
   "outputs": [],
   "source": [
    "X = np.eye(2)"
   ]
  },
  {
   "cell_type": "code",
   "execution_count": 11,
   "metadata": {},
   "outputs": [],
   "source": [
    "x = np.array([0, 1])"
   ]
  },
  {
   "cell_type": "code",
   "execution_count": 13,
   "metadata": {},
   "outputs": [
    {
     "data": {
      "text/plain": [
       "0.0"
      ]
     },
     "execution_count": 13,
     "metadata": {},
     "output_type": "execute_result"
    }
   ],
   "source": [
    "np.linalg.norm(X[0, :] - x)"
   ]
  },
  {
   "cell_type": "code",
   "execution_count": 3,
   "metadata": {},
   "outputs": [
    {
     "data": {
      "text/plain": [
       "array([0.36787944, 0.36787944])"
      ]
     },
     "execution_count": 3,
     "metadata": {},
     "output_type": "execute_result"
    }
   ],
   "source": [
    "np.exp(-np.sum((np.eye(2) - np.array([0, 1]))**2, axis=0))"
   ]
  },
  {
   "cell_type": "code",
   "execution_count": 128,
   "metadata": {},
   "outputs": [],
   "source": [
    "import cvxpy as cp\n",
    "import autograd.numpy as np\n",
    "import pandas as pd\n",
    "from autograd import grad\n",
    "from autograd.test_util import check_grads\n",
    "from deprecated.sphinx import deprecated\n",
    "from scipy.special._ufuncs import expit\n",
    "from sklearn.base import BaseEstimator, RegressorMixin\n",
    "from sklearn.linear_model.base import LinearClassifierMixin\n",
    "from sklearn.multiclass import OneVsRestClassifier, OneVsOneClassifier\n",
    "from sklearn.preprocessing import LabelEncoder\n",
    "from sklearn.utils import check_X_y\n",
    "from sklearn.utils.validation import (\n",
    "    check_is_fitted,\n",
    "    check_array,\n",
    "    FLOAT_DTYPES,\n",
    "    column_or_1d,\n",
    ")\n",
    "\n",
    "\n",
    "class LowessRegression(BaseEstimator, RegressorMixin):\n",
    "    \"\"\"\n",
    "    Does LowessRegression. Note that this *can* get expensive to predict.\n",
    "    \"\"\"\n",
    "\n",
    "    def __init__(self, sigma=1, span=None):\n",
    "        self.sigma = sigma\n",
    "        self.span = span\n",
    "\n",
    "    def fit(self, X, y):\n",
    "        \"\"\"\n",
    "        Fit the model using X, y as training data.\n",
    "\n",
    "        :param X: array-like, shape=(n_columns, n_samples, ) training data.\n",
    "        :param y: array-like, shape=(n_samples, ) training data.\n",
    "        :return: Returns an instance of self.\n",
    "        \"\"\"\n",
    "        X, y = check_X_y(X, y, estimator=self, dtype=FLOAT_DTYPES)\n",
    "        if self.span is not None:\n",
    "            if not 0 <= self.span <= 1:\n",
    "                raise ValueError(f\"we must have 0 <= span <= 1, got: {self.span}\")\n",
    "        if self.sigma < 0:\n",
    "            raise ValueError(f\"sigma must be >= 0, got: {self.sigma}\")\n",
    "        self.X_ = X\n",
    "        self.y_ = y\n",
    "        return self\n",
    "    \n",
    "    def _calc_wts(self, x_i):\n",
    "        distances = np.array([np.linalg.norm(self.X_[i, :] - x_i) for i in range(self.X_.shape[0])])\n",
    "        weights = np.exp(-distances**2/self.sigma)\n",
    "        if self.span:\n",
    "            weights = weights * (distances <= np.quantile(distances, q = self.span))\n",
    "        return weights\n",
    "\n",
    "    def predict(self, X):\n",
    "        \"\"\"\n",
    "        Fit the model using X, y as training data.\n",
    "\n",
    "        :param X: array-like, shape=(n_columns, n_samples, ) training data.\n",
    "        :return: Returns an array of predictions shape=(n_samples,)\n",
    "        \"\"\"\n",
    "        X = check_array(X, estimator=self, dtype=FLOAT_DTYPES)\n",
    "        check_is_fitted(self, [\"X_\", \"y_\"])\n",
    "        results = np.zeros(X.shape[0])\n",
    "        for idx in range(X.shape[0]):\n",
    "            results[idx] = np.average(self.y_, weights=self._calc_wts(x_i=X[idx, :]))\n",
    "        return results"
   ]
  },
  {
   "cell_type": "code",
   "execution_count": 129,
   "metadata": {},
   "outputs": [
    {
     "data": {
      "text/plain": [
       "0.10351266201581442"
      ]
     },
     "execution_count": 129,
     "metadata": {},
     "output_type": "execute_result"
    }
   ],
   "source": [
    "runif = np.random.uniform(0, 1, (1000))\n",
    "np.quantile(runif, q=0.1)"
   ]
  },
  {
   "cell_type": "code",
   "execution_count": 136,
   "metadata": {},
   "outputs": [],
   "source": [
    "import matplotlib.pylab as plt\n",
    "n = 100\n",
    "xs = np.arange(0, n)/100/np.pi\n",
    "ys = np.sin(xs) + np.random.normal(0, 0.1, n)\n",
    "\n",
    "mod = LowessRegression(sigma=0.001, span=0.5).fit(xs.reshape(-1, 1), ys)\n",
    "# x_new = np.arange(-100, 800)/100/np.pi\n",
    "preds = mod.predict(xs.reshape(-1, 1))"
   ]
  },
  {
   "cell_type": "code",
   "execution_count": 137,
   "metadata": {},
   "outputs": [
    {
     "data": {
      "text/plain": [
       "[<matplotlib.lines.Line2D at 0x11b8dd860>]"
      ]
     },
     "execution_count": 137,
     "metadata": {},
     "output_type": "execute_result"
    },
    {
     "data": {
      "image/png": "[encoded data removed]",
      "text/plain": [
       "<Figure size 432x288 with 1 Axes>"
      ]
     },
     "metadata": {
      "needs_background": "light"
     },
     "output_type": "display_data"
    }
   ],
   "source": [
    "plt.plot(xs, mod._calc_wts([0.1]))"
   ]
  },
  {
   "cell_type": "code",
   "execution_count": 138,
   "metadata": {},
   "outputs": [
    {
     "data": {
      "image/png": "[encoded data removed]",
      "text/plain": [
       "<Figure size 432x288 with 1 Axes>"
      ]
     },
     "metadata": {
      "needs_background": "light"
     },
     "output_type": "display_data"
    }
   ],
   "source": [
    "plt.scatter(xs, ys)\n",
    "plt.plot(xs, preds, color='orange');"
   ]
  },
  {
   "cell_type": "code",
   "execution_count": null,
   "metadata": {},
   "outputs": [],
   "source": []
  }
 ],
 "metadata": {
  "kernelspec": {
   "display_name": "Python 3",
   "language": "python",
   "name": "python3"
  },
  "language_info": {
   "codemirror_mode": {
    "name": "ipython",
    "version": 3
   },
   "file_extension": ".py",
   "mimetype": "text/x-python",
   "name": "python",
   "nbconvert_exporter": "python",
   "pygments_lexer": "ipython3",
   "version": "3.6.8"
  }
 },
 "nbformat": 4,
 "nbformat_minor": 4
}
