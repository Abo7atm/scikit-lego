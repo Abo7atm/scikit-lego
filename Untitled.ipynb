{
 "cells": [
  {
   "cell_type": "code",
   "execution_count": null,
   "metadata": {},
   "outputs": [],
   "source": [
    "import cvxpy as cp\n",
    "import autograd.numpy as np\n",
    "import pandas as pd\n",
    "from autograd import grad\n",
    "from autograd.test_util import check_grads\n",
    "from deprecated.sphinx import deprecated\n",
    "from scipy.special._ufuncs import expit\n",
    "from sklearn.base import BaseEstimator, RegressorMixin\n",
    "from sklearn.linear_model.base import LinearClassifierMixin\n",
    "from sklearn.multiclass import OneVsRestClassifier, OneVsOneClassifier\n",
    "from sklearn.preprocessing import LabelEncoder\n",
    "from sklearn.utils import check_X_y\n",
    "from sklearn.utils.validation import (\n",
    "    check_is_fitted,\n",
    "    check_array,\n",
    "    FLOAT_DTYPES,\n",
    "    column_or_1d,\n",
    ")\n",
    "\n",
    "\n",
    "class LowessRegression(BaseEstimator, RegressorMixin):\n",
    "    \"\"\"\n",
    "    Does LowessRegression. Note that this *can* get expensive to predict.\n",
    "    \"\"\"\n",
    "\n",
    "    def __init__(self, sigma=1):\n",
    "        self.sigma = sigma\n",
    "\n",
    "    def fit(self, X, y):\n",
    "        \"\"\"\n",
    "        Fit the model using X, y as training data.\n",
    "\n",
    "        :param X: array-like, shape=(n_columns, n_samples, ) training data.\n",
    "        :param y: array-like, shape=(n_samples, ) training data.\n",
    "        :return: Returns an instance of self.\n",
    "        \"\"\"\n",
    "        X, y = check_X_y(X, y, estimator=self, dtype=FLOAT_DTYPES)\n",
    "\n",
    "        # Construct the problem.\n",
    "        self.X_ = X\n",
    "        self.y_ = y\n",
    "        return self\n",
    "\n",
    "    def predict(self, X):\n",
    "        \"\"\"\n",
    "        Fit the model using X, y as training data.\n",
    "\n",
    "        :param X: array-like, shape=(n_columns, n_samples, ) training data.\n",
    "        :return: Returns an array of predictions shape=(n_samples,)\n",
    "        \"\"\"\n",
    "        X = check_array(X, estimator=self, dtype=FLOAT_DTYPES)\n",
    "        check_is_fitted(self, [\"X_\", \"y_\"])\n",
    "        return np.dot(X, self.coefs_)"
   ]
  }
 ],
 "metadata": {
  "kernelspec": {
   "display_name": "Python 3",
   "language": "python",
   "name": "python3"
  },
  "language_info": {
   "codemirror_mode": {
    "name": "ipython",
    "version": 3
   },
   "file_extension": ".py",
   "mimetype": "text/x-python",
   "name": "python",
   "nbconvert_exporter": "python",
   "pygments_lexer": "ipython3",
   "version": "3.6.8"
  }
 },
 "nbformat": 4,
 "nbformat_minor": 4
}
