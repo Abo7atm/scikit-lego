{
 "cells": [
  {
   "cell_type": "code",
   "execution_count": null,
   "metadata": {},
   "outputs": [],
   "source": [
    "import numpy as np\n",
    "import pandas as pd \n",
    "import matplotlib.pylab as plt\n",
    "\n",
    "from sklearn.datasets import load_boston\n",
    "from sklearn.pipeline import Pipeline\n",
    "from sklearn.preprocessing import StandardScaler\n",
    "from sklearn.linear_model import LinearRegression\n",
    "from sklearn.metrics import mean_squared_error\n",
    "\n",
    "from sklego.preprocessing import InformationFilter"
   ]
  },
  {
   "cell_type": "markdown",
   "metadata": {},
   "source": [
    "# Fairness \n",
    "\n",
    "Scikit learn comes with the boston housing dataset. We can make a simple pipeline with it and make us a small model. We can even write the code to also make a plot that can convince us that we're doing well."
   ]
  },
  {
   "cell_type": "code",
   "execution_count": null,
   "metadata": {},
   "outputs": [],
   "source": [
    "X, y = load_boston(return_X_y=True)\n",
    "\n",
    "pipe = Pipeline([\n",
    "    (\"scale\", StandardScaler()),\n",
    "    (\"model\", LinearRegression())\n",
    "])\n",
    "\n",
    "plt.scatter(pipe.fit(X, y).predict(X), y)\n",
    "plt.xlabel(\"predictions\")\n",
    "plt.ylabel(\"actual\")\n",
    "plt.title(\"plot that suggests it's not bad\");"
   ]
  },
  {
   "cell_type": "markdown",
   "metadata": {},
   "source": [
    "We could stop our research here if we think that our MSE is \"good enough\" but this would be dangerous. To find out why, we should look at the variables that are being used in our model. "
   ]
  },
  {
   "cell_type": "code",
   "execution_count": null,
   "metadata": {},
   "outputs": [],
   "source": [
    "print(load_boston()['DESCR'][:1200])"
   ]
  },
  {
   "cell_type": "markdown",
   "metadata": {},
   "source": [
    "This dataset contains features like \"lower status of population\" and \"the proportion of blacks by town\". This is bad. There's a real possibility that our model will overfit on MSE and underfit on fairness when we want to apply it. Scikit-Lego has some support to deal with fairness issues like this one. \n",
    "\n",
    "Dealing with issues such as fairness in machine learning can in general be done in three ways: \n",
    "\n",
    "- Data preprocessing\n",
    "- Model constraints\n",
    "- Prediction postprocessing.\n",
    "\n",
    "But before we can dive into methods for getting more fair predictions, we first need to define how to measure fairness\n",
    "\n",
    "\n",
    "##  Measuring fairness for Regression\n",
    "\n",
    "\n",
    "Measuring fairness can be done in many ways but we'll consider one definition: the output of the model is fair with regards to groups $A$ and $B$ if prediction has a distribution independent if group $A$ or $B$. In laymans terms: if group $A$ and $B$ don't get the same predictions: no bueno. \n",
    "\n",
    "Formally, this can be written as:\n",
    "\n",
    "$$fairness = \\left\\lvert \\frac{1}{|Z_1|} \\sum_{i \\in Z_1} \\hat{y}_{i} - \\frac{1}{|Z_0|} \\sum_{i \\in Z_0} \\hat{y}_{i} \\right\\rvert$$\n",
    "\n",
    "where $Z_1$ is the subset of the population where our sensitive attribute is true, and $Z_0$ the subset of the population where the sensitive attribute is false\n",
    "\n",
    "To estimate this we'll use bootstrap sampling to measure the models bias.\n",
    "\n",
    "\n",
    "##  Measuring fairness for Classification\n",
    "\n",
    "A common method for measuring fairness is __demographic parity__, for example through the p-percent metric. \n",
    "The idea behind it is that it requires that a decision — such as accepting or denying a loan application — be independent of the protected attribute. In other words, we expect the __positive__ rate in both groups to be the same. In the case of a binary decision $\\hat{y}$ and a binary protected attribute $z$, this constraint can be formalized by asking that\n",
    "\n",
    "$$P(\\hat{y}=1 | z=0)=P(\\hat{y}=1 | z=1)$$\n",
    "\n",
    "You can turn this into a metric by calculating how far off this exact equality your decision process is. This metric is called the p% score\n",
    "\n",
    "$$\\text{p% score} = \\min \\left(\\frac{P(\\hat{y}=1 | z=1)}{P(\\hat{y}=1 | z=0)}, \\frac{P(\\hat{y}=1 | z=0)}{P(\\hat{y}=1 | z=1)}\\right)$$\n",
    "\n",
    "In other words, membership in a protected class should have no correlation with the decision.\n",
    "\n",
    "In `sklego` this metric is implemented in `sklego.metrics.p_percent_score` and it works as follows:\n"
   ]
  },
  {
   "cell_type": "code",
   "execution_count": null,
   "metadata": {},
   "outputs": [],
   "source": [
    "from sklego.metrics import p_percent_score\n",
    "from sklearn.linear_model import LogisticRegression\n",
    "\n",
    "sensitive_classification_dataset = pd.DataFrame({\n",
    "    \"x1\": [1, 0, 1, 0, 1, 0, 1, 1],\n",
    "    \"x2\": [0, 0, 0, 0, 0, 1, 1, 1],\n",
    "    \"y\": [1, 1, 1, 0, 1, 0, 0, 0]}\n",
    ")\n",
    "\n",
    "X, y = sensitive_classification_dataset.drop(columns='y'), sensitive_classification_dataset['y']\n",
    "mod_unfair = LogisticRegression(solver='lbfgs').fit(X, y)\n",
    "\n",
    "print('p_percent_score:', p_percent_score(sensitive_column=\"x2\")(mod_unfair, X))"
   ]
  },
  {
   "cell_type": "markdown",
   "metadata": {},
   "source": [
    "\n",
    "Of course, no metric is perfect. If we for example use this in a loan approval situation, the demographic parity only looks at loans given, and not at the rate at which loans are paid back. That might result in a lower percentage of qualified people who are given loans in one population than in another. Another way of measuring fairness could be therefore to measure __equal opportunity__ instead. This constraint would boil down to:\n",
    "\n",
    "$$P(\\hat{y}=1 | z=0, y=1)=P(\\hat{y}=1 | z=1, y=1)$$\n",
    "\n",
    "and be turned into a metric in the same way as above:\n",
    "\n",
    "$$\\text{equality of opportunity} = \\min \\left(\\frac{P(\\hat{y}=1 | z=1, y=1)}{P(\\hat{y}=1 | z=0, y=1)}, \\frac{P(\\hat{y}=1 | z=0, y=1)}{P(\\hat{y}=1 | z=1, y=1)}\\right)$$\n",
    "\n",
    "We can see in the example below that the equal opportunity score does not differ for the models as long as the records where `y_true = 1` are predicted correctly."
   ]
  },
  {
   "cell_type": "code",
   "execution_count": null,
   "metadata": {},
   "outputs": [],
   "source": [
    "from sklego.metrics import equal_opportunity_score\n",
    "from sklearn.linear_model import LogisticRegression\n",
    "import types\n",
    "\n",
    "sensitive_classification_dataset = pd.DataFrame({\n",
    "    \"x1\": [1, 0, 1, 0, 1, 0, 1, 1],\n",
    "    \"x2\": [0, 0, 0, 0, 0, 1, 1, 1],\n",
    "    \"y\": [1, 1, 1, 0, 1, 0, 0, 1]}\n",
    ")\n",
    "\n",
    "X, y = sensitive_classification_dataset.drop(columns='y'), sensitive_classification_dataset['y']\n",
    "\n",
    "mod_1 = types.SimpleNamespace()\n",
    "\n",
    "mod_1.predict = lambda X: np.array([1, 0, 1, 0, 1, 0, 1, 1])\n",
    "print('equal_opportunity_score:', equal_opportunity_score(sensitive_column=\"x2\")(mod_1, X, y))\n",
    "\n",
    "mod_1.predict = lambda X: np.array([1, 0, 1, 0, 1, 0, 0, 1])\n",
    "print('equal_opportunity_score:', equal_opportunity_score(sensitive_column=\"x2\")(mod_1, X, y))\n",
    "\n",
    "mod_1.predict = lambda X: np.array([1, 0, 1, 0, 1, 0, 0, 0])\n",
    "\n",
    "print('equal_opportunity_score:', equal_opportunity_score(sensitive_column=\"x2\")(mod_1, X, y))"
   ]
  },
  {
   "cell_type": "markdown",
   "metadata": {},
   "source": [
    "\n",
    "## Data preprocessing\n",
    "When doing data preprocessing we're trying to remove any bias caused by the sensitive variable from the input dataset. By doing this, we remain flexible in our choice of models.\n",
    "\n",
    "### Information Filter\n",
    "\n",
    "This is a great opportunity to use the `InformationFilter` which can filter the information of these two sensitive columns away as a transformation step. It does this by projecting all vectors away such that the remaining dataset is orthogonal to the sensitive columns.\n",
    "\n",
    "#### How it Works \n",
    "\n",
    "The `InformationFilter` uses a variant of the [gram smidt process](https://en.wikipedia.org/wiki/Gram%E2%80%93Schmidt_process) to filter information out of the dataset. We can make it visual in two dimensions;\n",
    "\n",
    "![proj«img](_static/projections.png)\n",
    "\n",
    "To explain what occurs in higher dimensions we need to resort to maths. Take a training matrix $X$ that contains columns $x_1, ..., x_k$. If we assume columns $x_1$ and $x_2$ to be the sensitive columns then the information filter will filter out information using this approach; \n",
    "\n",
    "$$\n",
    "\\begin{split}\n",
    "v_1 & = x_1 \\\\\n",
    "v_2 & = x_2 - \\frac{x_2 v_1}{v_1 v_1}\\\\\n",
    "v_3 & = x_3 - \\frac{x_3 v_1}{v_1 v_1} - \\frac{x_3 v_2}{v_2 v_2}\\\\\n",
    "... \\\\ \n",
    "v_k & = x_k - \\frac{x_k v_1}{v_1 v_1} - \\frac{x_k' v_2}{v_2 v_2}\n",
    "\\end{split}\n",
    "$$\n",
    "\n",
    "Concatenating our vectors (but removing the sensitive ones) gives us a new training matrix $X_{\\text{more fair}} =  [v_3, ..., v_k]$. \n",
    "\n",
    "#### Experiment \n",
    "\n",
    "We will demonstrate the effect of applying this by benchmarking three things: \n",
    "\n",
    "1. Keep $X$ as is. \n",
    "2. Drop the two columns that are sensitive.\n",
    "3. Use the information filter\n",
    "\n",
    "We'll use the regression metric defined above to show the differences in fairness"
   ]
  },
  {
   "cell_type": "code",
   "execution_count": null,
   "metadata": {},
   "outputs": [],
   "source": [
    "X, y = load_boston(return_X_y=True)\n",
    "df = pd.DataFrame(X, columns=['crim','zn','indus','chas','nox',\n",
    "                              'rm','age','dis','rad','tax','ptratio',\n",
    "                              'b','lstat'])\n",
    "X_drop = df.drop(columns=[\"lstat\", \"b\"])\n",
    "X_fair = InformationFilter([\"lstat\", \"b\"]).fit_transform(df)\n",
    "X_fair = pd.DataFrame(X_fair, \n",
    "                      columns=[n for n in df.columns if n not in ['b', 'lstat']])"
   ]
  },
  {
   "cell_type": "code",
   "execution_count": null,
   "metadata": {},
   "outputs": [],
   "source": [
    "def simple_mod():\n",
    "    return Pipeline([(\"scale\", StandardScaler()), (\"mod\", LinearRegression())])\n",
    "\n",
    "base_mod = simple_mod().fit(X, y)\n",
    "drop_mod = simple_mod().fit(X_drop, y)\n",
    "fair_mod = simple_mod().fit(X_fair, y)\n",
    "\n",
    "base_pred = base_mod.predict(X)\n",
    "drop_pred = drop_mod.predict(X_drop)\n",
    "fair_pred = fair_mod.predict(X_fair)"
   ]
  },
  {
   "cell_type": "markdown",
   "metadata": {},
   "source": [
    "We can see that the coefficients of the three models are indeed different."
   ]
  },
  {
   "cell_type": "code",
   "execution_count": null,
   "metadata": {},
   "outputs": [],
   "source": [
    "pd.DataFrame([base_mod.steps[1][1].coef_, drop_mod.steps[1][1].coef_, fair_mod.steps[1][1].coef_], columns=df.columns)"
   ]
  },
  {
   "cell_type": "code",
   "execution_count": null,
   "metadata": {},
   "outputs": [],
   "source": [
    "# we're using lstat to select the group to keep things simple\n",
    "selector = df[\"lstat\"] > np.quantile(df[\"lstat\"], 0.5)\n",
    "\n",
    "def bootstrap_means(preds, selector, n=2500, k=25):\n",
    "    grp1 = np.random.choice(preds[selector], (n, k)).mean(axis=1)\n",
    "    grp2 = np.random.choice(preds[~selector], (n, k)).mean(axis=1)\n",
    "    return grp1 - grp2"
   ]
  },
  {
   "cell_type": "markdown",
   "metadata": {},
   "source": [
    "### 1. Original Situation"
   ]
  },
  {
   "cell_type": "code",
   "execution_count": null,
   "metadata": {},
   "outputs": [],
   "source": [
    "plt.figure(figsize=(10, 5))\n",
    "plt.subplot(121)\n",
    "plt.scatter(base_pred, y)\n",
    "plt.title(f\"MSE: {mean_squared_error(y, base_pred)}\")\n",
    "plt.subplot(122)\n",
    "plt.hist(bootstrap_means(base_pred, selector), bins=30, density=True, alpha=0.8)\n",
    "plt.title(f\"Fairness Proxy\");"
   ]
  },
  {
   "cell_type": "markdown",
   "metadata": {},
   "source": [
    "### 2. Drop two columns"
   ]
  },
  {
   "cell_type": "code",
   "execution_count": null,
   "metadata": {},
   "outputs": [],
   "source": [
    "plt.figure(figsize=(10, 5))\n",
    "plt.subplot(121)\n",
    "plt.scatter(drop_pred, y)\n",
    "plt.title(f\"MSE: {mean_squared_error(y, drop_pred)}\")\n",
    "plt.subplot(122)\n",
    "plt.hist(bootstrap_means(base_pred, selector), bins=30, density=True, alpha=0.8)\n",
    "plt.hist(bootstrap_means(drop_pred, selector), bins=30, density=True, alpha=0.8)\n",
    "plt.title(f\"Fairness Proxy\");"
   ]
  },
  {
   "cell_type": "markdown",
   "metadata": {},
   "source": [
    "### 3. Use the Information Filter"
   ]
  },
  {
   "cell_type": "code",
   "execution_count": null,
   "metadata": {},
   "outputs": [],
   "source": [
    "plt.figure(figsize=(10, 5))\n",
    "plt.subplot(121)\n",
    "plt.scatter(fair_pred, y)\n",
    "plt.title(f\"MSE: {mean_squared_error(y, fair_pred)}\")\n",
    "plt.subplot(122)\n",
    "plt.hist(bootstrap_means(base_pred, selector), bins=30, density=True, alpha=0.8)\n",
    "plt.hist(bootstrap_means(fair_pred, selector), bins=30, density=True, alpha=0.8)\n",
    "plt.title(f\"Fairness Proxy\");"
   ]
  },
  {
   "cell_type": "markdown",
   "metadata": {},
   "source": [
    "There definitely is a balance between fairness and model accuracy. Which model you'll use depends on the world you want to create by applying your model. \n",
    "\n",
    "Note that you can combine models here to make an ensemble too. You can also use the difference between the 1st and  last model as a proxy for bias."
   ]
  },
  {
   "cell_type": "markdown",
   "metadata": {},
   "source": [
    "## Model constraints\n",
    "\n",
    "Another way we could tackle this fairness problem would be to explicitly take fairness into account when optimizing the parameters of our model. This is implemented in the `DemographicParityClassifier` as well as the `EqualOpportunityClassifier`.\n",
    "\n",
    "Both these models are built as an extension of basic logistic regression. Where logistic regression optimizes the following problem:\n",
    "\n",
    "$$\\begin{array}{cl}\n",
    "{\\operatorname{minimize}} & -\\sum_{i=1}^{N} \\log p\\left(y_{i} | \\mathbf{x}_{i},\\boldsymbol{\\theta}\\right)\n",
    "\\end{array}\n",
    "$$\n",
    "\n",
    "We would like to instead optimize this:\n",
    "\n",
    "$$\\begin{array}{cl}{\\operatorname{minimize}} & -\\sum_{i=1}^{N} \\log p\\left(y_{i} | \\mathbf{x}_{i},\n",
    "        \\boldsymbol{\\theta}\\right)\\\\\n",
    "{\\text { subject to }} & \\text{fairness} \\geq \\mathbf{c}\\end{array}    $$  \n",
    "        \n"
   ]
  },
  {
   "cell_type": "markdown",
   "metadata": {},
   "source": [
    "## Demographic Parity Classifier\n",
    "\n",
    "The p% score discussed above is a nice metric but unfortunately it is rather hard to directly implement in the formulation into our model as it is a non-convex function making it difficult to optimize directly. Also, as the p% rule only depends on which side of the decision boundary an observation lies, it is invariant in small changes in the decision boundary. This causes large saddle points in the objective making optimization even more difficult\n",
    "\n",
    "Instead of optimizing for the p% directly, we approximate it by taking the covariance between the users’ sensitive\n",
    "attributes, $z$m, and the decision boundary. This results in the following formulation of our `DemographicParityClassifier`.\n",
    "\n",
    "$$\\begin{array}{cl}{\\operatorname{minimize}} & -\\sum_{i=1}^{N} \\log p\\left(y_{i} | \\mathbf{x}_{i},\n",
    "        \\boldsymbol{\\theta}\\right)\\\\\n",
    "{\\text { subject to }} & {\\frac{1}{N} \\sum_{i=1}^{N}\\left(\\mathbf{z}_{i}-\\overline{\\mathbf{z}}\\right) d_\n",
    "        \\boldsymbol{\\theta}\\left(\\mathbf{x}_{i}\\right) \\leq \\mathbf{c}} \\\\\n",
    "        {} & {\\frac{1}{N} \\sum_{i=1}^{N}\\left(\\mathbf{z}_{i}-\\overline{\\mathbf{z}}\\right)\n",
    "        d_{\\boldsymbol{\\theta}}\\left(\\mathbf{x}_{i}\\right) \\geq-\\mathbf{c}}\\end{array}    $$  \n",
    "        \n",
    "Let's see what the effect of this is. As this is a Classifier and not a Regressor, we transform the target to a binary variable indicating whether it is above or below the median. Our p% metric also assumes a binary indicator for sensitive columns so we do the same for our `lstat` column. \n",
    "\n",
    "Fitting the model is as easy as fitting a normal sklearn model. We just need to supply the columns that should be treated as sensitive to the model, as well as the maximum covariance we want to have. "
   ]
  },
  {
   "cell_type": "code",
   "execution_count": null,
   "metadata": {},
   "outputs": [],
   "source": [
    "from sklego.linear_model import DemographicParityClassifier\n",
    "from sklearn.linear_model import LogisticRegression\n",
    "from sklego.metrics import p_percent_score\n",
    "\n",
    "from sklearn.metrics import accuracy_score, make_scorer\n",
    "from sklearn.model_selection import GridSearchCV\n",
    "\n",
    "df_clf = df.assign(lstat=lambda d: d['lstat'] > np.median(d['lstat']))\n",
    "y_clf = y > np.median(y)\n",
    "\n",
    "normal_classifier = LogisticRegression(solver='lbfgs')\n",
    "normal_classifier.fit(df_clf, y_clf)\n",
    "fair_classifier = DemographicParityClassifier(sensitive_cols=\"lstat\", covariance_threshold=0.5)\n",
    "fair_classifier.fit(df_clf, y_clf);"
   ]
  },
  {
   "cell_type": "markdown",
   "metadata": {},
   "source": [
    "Comparing the two models on their p% scores also shows that the fair classifier has a much higher fairness score at a slight cost in accuracy.\n",
    "\n",
    "We'll compare these two models by doing a gridsearch on the effect of the `covariance_threshold`. "
   ]
  },
  {
   "cell_type": "code",
   "execution_count": null,
   "metadata": {},
   "outputs": [],
   "source": [
    "import warnings\n",
    "\n",
    "fair_classifier = GridSearchCV(estimator=DemographicParityClassifier(sensitive_cols=\"lstat\", \n",
    "                                                        covariance_threshold=0.5),\n",
    "                               param_grid={\"estimator__covariance_threshold\": \n",
    "                                           np.linspace(0.01, 1.00, 20)},\n",
    "                               cv=5,\n",
    "                               refit=\"accuracy_score\",\n",
    "                               return_train_score=True,\n",
    "                               scoring={\"p_percent_score\": p_percent_score('lstat'),\n",
    "                                        \"accuracy_score\": make_scorer(accuracy_score)})\n",
    "\n",
    "with warnings.catch_warnings():\n",
    "    warnings.simplefilter(\"ignore\")\n",
    "    fair_classifier.fit(df_clf, y_clf);\n",
    "\n",
    "    pltr = (pd.DataFrame(fair_classifier.cv_results_)\n",
    "            .set_index(\"param_estimator__covariance_threshold\"))\n",
    "\n",
    "    p_score = p_percent_score('lstat')(normal_classifier, df_clf, y_clf)\n",
    "    acc_score = accuracy_score(normal_classifier.predict(df_clf), y_clf)"
   ]
  },
  {
   "cell_type": "markdown",
   "metadata": {},
   "source": [
    "The results of the grid search are shown below. Note that the logistic regression results are of the train set, not the test set. We can see that the increase in fairness comes at the cost of accuracy but this might literally be a fair tradeoff. "
   ]
  },
  {
   "cell_type": "code",
   "execution_count": null,
   "metadata": {},
   "outputs": [],
   "source": [
    "plt.figure(figsize=(12, 3))\n",
    "plt.subplot(121)\n",
    "plt.plot(np.array(pltr.index), pltr['mean_test_p_percent_score'], label='fairclassifier')\n",
    "plt.plot(np.linspace(0, 1, 2), [p_score for _ in range(2)], label='logistic-regression')\n",
    "plt.xlabel(\"covariance threshold\")\n",
    "plt.legend()\n",
    "plt.title(\"p% score\")\n",
    "plt.subplot(122)\n",
    "plt.plot(np.array(pltr.index), pltr['mean_test_accuracy_score'], label='fairclassifier')\n",
    "plt.plot(np.linspace(0, 1, 2), [acc_score for _ in range(2)], label='logistic-regression')\n",
    "plt.xlabel(\"covariance threshold\")\n",
    "plt.legend()\n",
    "plt.title(\"accuracy\");"
   ]
  },
  {
   "cell_type": "markdown",
   "metadata": {},
   "source": [
    "## Equal opportunity\n",
    "\n",
    "In the same spirit as the `DemographicParityClassifier` discussed above, there is also an `EqualOpportunityClassifier` which optimizes\n",
    "\n",
    "$$\\begin{array}{cl}{\\operatorname{minimize}} & -\\sum_{i=1}^{N} \\log p\\left(y_{i} | \\mathbf{x}_{i},\n",
    "        \\boldsymbol{\\theta}\\right) \\\\\n",
    "        {\\text { subject to }} & {\\frac{1}{POS} \\sum_{i=1}^{POS}\\left(\\mathbf{z}_{i}-\\overline{\\mathbf{z}}\\right) d\n",
    "        \\boldsymbol{\\theta}\\left(\\mathbf{x}_{i}\\right) \\leq \\mathbf{c}} \\\\\n",
    "        {} & {\\frac{1}{POS} \\sum_{i=1}^{POS}\\left(\\mathbf{z}_{i}-\\overline{\\mathbf{z}}\\right)\n",
    "        d_{\\boldsymbol{\\theta}}\\left(\\mathbf{x}_{i}\\right) \\geq-\\mathbf{c}}\\end{array}$$\n",
    "\n",
    "where POS is the subset of the population where `y_true = positive_target`"
   ]
  },
  {
   "cell_type": "code",
   "execution_count": null,
   "metadata": {},
   "outputs": [],
   "source": [
    "import warnings\n",
    "from sklego.linear_model import EqualOpportunityClassifier\n",
    "\n",
    "fair_classifier = GridSearchCV(\n",
    "    estimator=EqualOpportunityClassifier(\n",
    "        sensitive_cols=\"lstat\", \n",
    "        covariance_threshold=0.5,\n",
    "        positive_target=True,\n",
    "    ),\n",
    "    param_grid={\"estimator__covariance_threshold\": np.linspace(0.001, 1.00, 20)},\n",
    "    cv=5,\n",
    "    n_jobs=-1,\n",
    "    refit=\"accuracy_score\",\n",
    "    return_train_score=True,\n",
    "    scoring={\"p_percent_score\": p_percent_score('lstat'),\n",
    "            \"equal_opportunity_score\": equal_opportunity_score('lstat'),\n",
    "            \"accuracy_score\": make_scorer(accuracy_score)}\n",
    ")\n",
    "\n",
    "with warnings.catch_warnings():\n",
    "    warnings.simplefilter(\"ignore\")\n",
    "    fair_classifier.fit(df_clf, y_clf);\n",
    "\n",
    "    pltr = (pd.DataFrame(fair_classifier.cv_results_)\n",
    "            .set_index(\"param_estimator__covariance_threshold\"))\n",
    "\n",
    "    p_score = p_percent_score('lstat')(normal_classifier, df_clf, y_clf)\n",
    "    acc_score = accuracy_score(normal_classifier.predict(df_clf), y_clf)"
   ]
  },
  {
   "cell_type": "code",
   "execution_count": null,
   "metadata": {},
   "outputs": [],
   "source": [
    "plt.figure(figsize=(12, 3))\n",
    "plt.subplot(121)\n",
    "plt.plot(np.array(pltr.index), pltr['mean_test_equal_opportunity_score'], label='fairclassifier')\n",
    "plt.plot(np.linspace(0, 1, 2), [p_score for _ in range(2)], label='logistic-regression')\n",
    "plt.xlabel(\"covariance threshold\")\n",
    "plt.legend()\n",
    "plt.title(\"equal opportunity score\")\n",
    "plt.subplot(122)\n",
    "plt.plot(np.array(pltr.index), pltr['mean_test_accuracy_score'], label='fairclassifier')\n",
    "plt.plot(np.linspace(0, 1, 2), [acc_score for _ in range(2)], label='logistic-regression')\n",
    "plt.xlabel(\"covariance threshold\")\n",
    "plt.legend()\n",
    "plt.title(\"accuracy\");"
   ]
  },
  {
   "cell_type": "code",
   "execution_count": null,
   "metadata": {},
   "outputs": [],
   "source": []
  }
 ],
 "metadata": {
  "kernelspec": {
   "display_name": "Python 3",
   "language": "python",
   "name": "python3"
  },
  "language_info": {
   "codemirror_mode": {
    "name": "ipython",
    "version": 3
   },
   "file_extension": ".py",
   "mimetype": "text/x-python",
   "name": "python",
   "nbconvert_exporter": "python",
   "pygments_lexer": "ipython3",
   "version": "3.6.6"
  }
 },
 "nbformat": 4,
 "nbformat_minor": 4
}
