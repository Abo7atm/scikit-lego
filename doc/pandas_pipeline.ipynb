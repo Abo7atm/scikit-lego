{
 "cells": [
  {
   "cell_type": "markdown",
   "metadata": {},
   "source": [
    "# Pandas pipelines\n",
    "\n",
    "[Method chaining](https://tomaugspurger.github.io/method-chaining) is a great way for writing pandas code as it allows us to go from:\n",
    "\n",
    "```python\n",
    "raw_data = pd.read_parquet(...)\n",
    "data_with_types = set_dtypes(raw_data)\n",
    "data_without_outliers = remove_outliers(data_with_types)\n",
    "```\n",
    "\n",
    "to \n",
    "\n",
    "```python\n",
    "data = (\n",
    "    pd.read_parquet(...)\n",
    "    .pipe(set_dtypes)\n",
    "    .pipe(remove_outliers)\n",
    ")\n",
    "```\n",
    "\n",
    "But it does come at a cost, mostly in our ability to debug long pipelines. If there's a mistake somewhere along the way, you can only inspect the end result and lose the ability to inspect intermediate results. A mitigation for this is to add decorators to your pipeline functions that log common attributes of your dataframe on each step:\n",
    "\n",
    "\n",
    "## Logging in method chaining\n",
    "In order to use the logging capabilitites we first need to ensure we have a proper logger configured. We do this by running `logging.basicConfig(level=logging.DEBUG)`. \n",
    "\n"
   ]
  },
  {
   "cell_type": "code",
   "execution_count": null,
   "metadata": {},
   "outputs": [],
   "source": [
    "from sklego.datasets import load_chicken\n",
    "from sklego.pandas_utils import log_step\n",
    "chickweight = load_chicken(give_pandas=True)"
   ]
  },
  {
   "cell_type": "code",
   "execution_count": null,
   "metadata": {},
   "outputs": [],
   "source": [
    "import logging\n",
    "\n",
    "logging.basicConfig(level=logging.DEBUG)"
   ]
  },
  {
   "cell_type": "markdown",
   "metadata": {},
   "source": [
    "If we now add a `log_step` decorator to our pipeline function and execute the function, we see that we get some logging statements for free"
   ]
  },
  {
   "cell_type": "code",
   "execution_count": null,
   "metadata": {},
   "outputs": [],
   "source": [
    "@log_step\n",
    "def set_dtypes(chickweight):\n",
    "    return chickweight.assign(\n",
    "        diet=lambda d: d['diet'].astype('category'),\n",
    "        chick=lambda d: d['chick'].astype('category'),\n",
    "    )"
   ]
  },
  {
   "cell_type": "code",
   "execution_count": null,
   "metadata": {},
   "outputs": [],
   "source": [
    "chickweight.pipe(set_dtypes).head()"
   ]
  },
  {
   "cell_type": "markdown",
   "metadata": {},
   "source": [
    "We can choose to log at different log levels. For example if we have a `remove_outliers` function that calls different outlier removal functions for different types of outliers, we might in general be only interested in the total outliers removed. In order to get that, we set the log level for our specific implementations to `logging.DEBUG`"
   ]
  },
  {
   "cell_type": "code",
   "execution_count": null,
   "metadata": {},
   "outputs": [],
   "source": [
    "@log_step(level=logging.DEBUG)\n",
    "def remove_dead_chickens(chickweight):\n",
    "    dead_chickens = chickweight.groupby('chick').size().loc[lambda s: s < 12]\n",
    "    return chickweight.loc[lambda d: ~d['chick'].isin(dead_chickens)]\n",
    "\n",
    "\n",
    "@log_step\n",
    "def remove_outliers(chickweight):\n",
    "    return chickweight.pipe(remove_dead_chickens)"
   ]
  },
  {
   "cell_type": "code",
   "execution_count": null,
   "metadata": {},
   "outputs": [],
   "source": [
    "chickweight.pipe(set_dtypes).pipe(remove_outliers).head()"
   ]
  },
  {
   "cell_type": "markdown",
   "metadata": {},
   "source": [
    "We can now easily switch between log levels to get the full detail or the general overview"
   ]
  },
  {
   "cell_type": "code",
   "execution_count": null,
   "metadata": {},
   "outputs": [],
   "source": [
    "logging.getLogger(__name__).setLevel(logging.INFO)\n",
    "chickweight.pipe(set_dtypes).pipe(remove_outliers).head()"
   ]
  }
 ],
 "metadata": {
  "kernelspec": {
   "display_name": "Python 3",
   "language": "python",
   "name": "python3"
  },
  "language_info": {
   "codemirror_mode": {
    "name": "ipython",
    "version": 3
   },
   "file_extension": ".py",
   "mimetype": "text/x-python",
   "name": "python",
   "nbconvert_exporter": "python",
   "pygments_lexer": "ipython3",
   "version": "3.6.6"
  }
 },
 "nbformat": 4,
 "nbformat_minor": 4
}
